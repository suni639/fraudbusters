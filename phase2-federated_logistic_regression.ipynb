{
 "cells": [
  {
   "cell_type": "markdown",
   "id": "95bc7f16",
   "metadata": {},
   "source": [
    "# Phase 2: Federated Learning Using Logistic Regression"
   ]
  },
  {
   "cell_type": "markdown",
   "id": "e63a83a0",
   "metadata": {},
   "source": [
    "### <font color='289C4E'>Table of contents<font><a class='anchor' id='top'></a>\n",
    "- [Executive Summary](#execsum)\n",
    "- [Introduction](#intro)\n",
    "- [Phase 1 Recap](#recap)\n",
    "- [Phase 2 Overview](#phase2)\n",
    "- [Federated Learning and Its Benefits](#fedlearn)\n",
    "- [Focus of This Phase](#fedavg)\n",
    "- [Developing the Federated Logistic Regression Model](#phase2_code)"
   ]
  },
  {
   "cell_type": "markdown",
   "id": "c8ab9722",
   "metadata": {},
   "source": [
    "## <font color='289C4E'>Executive Summary<a id='execsum'></a> [↑](#top)\n",
    "\n",
    "Credit card fraud is a significant issue for financial institutions, leading to substantial financial losses and compromised customer trust. Detecting fraudulent transactions is challenging due to the highly imbalanced nature of the data, where fraudulent transactions are a tiny fraction of all transactions.\n",
    "    \n",
    "This project explores advanced techniques to enhance credit card fraud detection. By leveraging the [Credit Card Fraud Detection dataset](https://www.kaggle.com/datasets/mlg-ulb/creditcardfraud), the aim is to compare the performance, complexity, and computational intensity of centralized machine learning models versus decentralized federated learning (using logistic regression). The federated learning phase of the project is then extended into two additional phases that investigate the benefits of integrating blockchain (_Phase 3A_) and zero knowledge proofs (_Phase 3B_).\n",
    "\n",
    "The main objective of Phase 2 was to implement federated learning to enhance credit card fraud detection while maintaining data privacy. By distributing model training across multiple clients (simulating different financial institutions) and utilizing Federated Averaging (FedAvg), the project aimed to leverage collective knowledge from various datasets without sharing sensitive data.\n",
    "\n",
    "**Approach**:\n",
    "\n",
    "The dataset was split into multiple subsets, each representing a different client.\n",
    "Each client trained a logistic regression model on its local data using the Synthetic Minority Over-sampling Technique (SMOTE) to handle class imbalance.\n",
    "Model updates from each client were aggregated using the FedAvg algorithm to create a global model.\n",
    "The global model was evaluated on a separate test set to assess its performance.\n",
    "\n",
    "**Results**:\n",
    "\n",
    "- _High accuracy (98.86%)_ reflects the model's ability to correctly classify the majority of transactions.\n",
    "- _Recall of 90.82%_ indicates the model's effectiveness in identifying fraudulent transactions, crucial for minimizing missed fraud cases.\n",
    "- _Precision of 12.16%_ highlights a challenge with false positives, where many flagged transactions were not actually fraudulent.\n",
    "- _F1 score of 21.45%_ shows a balance between precision and recall, but further improvement in precision is needed.\n",
    "- _ROC AUC score of 96.41%_ indicates excellent overall classification ability.\n",
    "- _AUPRC of 71.98%_ provides a more informative measure for imbalanced datasets, showing good performance in detecting the minority class (fraudulent transactions).\n",
    "\n",
    "**Key Benefits Demonstrated**:\n",
    "\n",
    "1. **Data Privacy**: Federated learning ensured that sensitive data remained decentralized, enhancing privacy and security.\n",
    "Collaboration without Data Sharing: Multiple clients could collaboratively improve the fraud detection model without sharing raw data, fostering trust among institutions.\n",
    "2. **Improved Model Performance**: Leveraging broader datasets from multiple clients led to a more robust and accurate model.\n",
    "3. **Regulatory Compliance**: The approach facilitated compliance with data protection regulations by keeping data local and only sharing model updates.\n",
    "4. **Scalability**: The federated learning model can easily scale to include more institutions, further enhancing model performance as more data becomes available.\n",
    "\n",
    "**Conclusion**:\n",
    "\n",
    "Phase 2 successfully demonstrated the feasibility and benefits of federated learning in credit card fraud detection. By ensuring data privacy and leveraging collective knowledge from multiple institutions, the federated learning approach improved the model's performance while addressing key concerns in the finance industry. This sets a strong foundation for integrating further advanced techniques such as blockchain and zero knowledge proofs in subsequent phases."
   ]
  },
  {
   "cell_type": "markdown",
   "id": "33ca1d7c",
   "metadata": {},
   "source": [
    "## <font color='289C4E'>Introduction<a id='intro'></a> [↑](#top)\n",
    "\n",
    "In this phase, the project transitions from a centralized logistic regression model to a federated learning approach. Federated learning enables collaborative training of machine learning models across multiple decentralized entities (clients), such as different banks, without sharing their data. This ensures data privacy while leveraging the collective knowledge of all participants. \n",
    "    \n",
    "The implementation focuses on a federated logistic regression model using the Federated Averaging (FedAvg) algorithm to improve fraud detection while maintaining data security and privacy.\n"
   ]
  },
  {
   "cell_type": "markdown",
   "id": "a404a241",
   "metadata": {},
   "source": [
    "## <font color='289C4E'>Phase 1 Recap<a id='recap'></a> [↑](#top)\n",
    "\n",
    "Phase 1 aimed to establish a baseline model and better understand the data. A centralized logistic regression model was developed for fraud detection. The Synthetic Minority Over-sampling Technique (SMOTE) was applied to address class imbalance, and the model was evaluated using various metrics, including accuracy, precision, recall, F1 score, ROC AUC, and AUPRC.\n",
    "\n",
    "### Results from Phase 1\n",
    "\n",
    "- **Accuracy**: High accuracy was achieved, but it was not sufficient given the class imbalance.\n",
    "- **Precision**: Low precision indicated many false positives.\n",
    "- **Recall**: High recall was achieved, successfully identifying most fraudulent transactions.\n",
    "- **F1 Score**: A balanced metric indicated the need for better precision.\n",
    "- **AUPRC**: Provided a more informative measure for the imbalanced dataset."
   ]
  },
  {
   "cell_type": "markdown",
   "id": "6f0096f3",
   "metadata": {},
   "source": [
    "## <font color='289C4E'>Phase 2 Overview<a id='phase2'></a> [↑](#top)\n",
    "\n",
    "In Phase 2, a federated learning approach is implemented to enhance the fraud detection model. Federated learning allows multiple clients to collaboratively train a shared model without exchanging their raw data. Instead, model updates are shared and aggregated to form a global model. This phase focuses on applying Federated Averaging (FedAvg) with logistic regression.\n",
    "\n",
    "### Goals of Phase 2\n",
    "\n",
    "1. **Data Privacy**: Ensure that client data remains decentralized and secure.\n",
    "2. **Collaboration**: Leverage data from multiple clients to improve model performance.\n",
    "3. **Scalability**: Demonstrate the scalability of federated learning for large-scale fraud detection.\n",
    "4. **Model Performance**: Improve the precision and recall of the fraud detection model.\n"
   ]
  },
  {
   "cell_type": "markdown",
   "id": "22cd00de",
   "metadata": {},
   "source": [
    "## <font color='289C4E'>Federated Learning and Its Benefits<a id='fedlearn'></a> [↑](#top)\n",
    "\n",
    "### What is Federated Learning?\n",
    "\n",
    "Federated Learning is a machine learning paradigm where multiple clients (e.g., banks, financial institutions) collaboratively train a model under the orchestration of a central server while keeping the training data decentralized. Each client trains the model on its local data and only shares model updates (such as weights and biases) with the central server.\n",
    "\n",
    "\n",
    "![Federated Learning Process](pics/General-federated-learning-architecture.png)\n",
    "\n",
    "_Figure 1: The process of Federated Learning._\n",
    "    \n",
    "\n",
    "### Benefits of Federated Learning\n",
    "\n",
    "1. **Data Privacy**: Clients' raw data never leaves their local environment, significantly enhancing data privacy and security.\n",
    "2. **Regulatory Compliance**: Helps organizations comply with data protection regulations such as GDPR and CCPA.\n",
    "3. **Scalability**: Capable of scaling to a large number of clients, leveraging diverse datasets.\n",
    "4. **Improved Model Performance**: By aggregating knowledge from multiple clients, federated learning can improve model robustness and generalization.\n",
    "\n",
    "### Problems Addressed by Federated Learning\n",
    "\n",
    "1. **Ensuring Data Privacy**: In the financial industry, data privacy is paramount. Federated learning ensures that sensitive customer data remains within the local servers of each bank, mitigating the risk of data breaches and ensuring compliance with privacy laws.\n",
    "2. **Building Trust Among Institutions**: Banks and financial institutions are often hesitant to share data due to competitive and privacy concerns. Federated learning allows these entities to collaborate without exposing their proprietary data, fostering trust and cooperation.\n",
    "3. **Access to Broader Datasets**: Individual, or smaller, banks may have limited datasets, which can constrain the performance of machine learning models. Federated learning allows institutions to leverage a broader dataset by aggregating knowledge from multiple sources, leading to more robust and accurate models.\n",
    "4. **Regulatory Compliance**: By keeping data decentralized and only sharing model updates, federated learning helps institutions comply with stringent data protection regulations, such as GDPR in Europe and CCPA in California.\n",
    "\n",
    "### Federated Averaging (FedAvg)\n",
    "\n",
    "Federated Averaging is a key algorithm in federated learning. It works by:\n",
    "1. **Local Training**: Each client trains a model on its local data.\n",
    "2. **Model Update**: Clients send their model updates (weights and biases) to the central server.\n",
    "3. **Aggregation**: The central server averages these updates to create a new global model.\n",
    "4. **Global Model Distribution**: The global model is sent back to the clients for further local training.\n",
    "\n",
    "This iterative process continues until the model converges.\n"
   ]
  },
  {
   "cell_type": "markdown",
   "id": "5ae7490b",
   "metadata": {},
   "source": [
    "## <font color='289C4E'>Focus of This Phase: Federated Logistic Regression Using Federated Averaging<a id='fedavg'></a> [↑](#top)\n",
    "\n",
    "### Objective\n",
    "\n",
    "The primary objective of this phase is to implement a federated logistic regression model for credit card fraud detection using the Federated Averaging (FedAvg) algorithm. This involves splitting the dataset among multiple clients, performing local training with SMOTE to handle class imbalance, and aggregating the local models to form a global model.\n",
    "\n",
    "### Steps Involved\n",
    "\n",
    "1. **Data Distribution**: Split the dataset into multiple subsets for different clients, ensuring an approximately equal number of fraudulent transactions in each subset.\n",
    "2. **Local Training**: Each client trains a logistic regression model on its local data using SMOTE for class imbalance handling.\n",
    "3. **Model Aggregation**: Aggregate the model weights and biases from all clients to create a global model.\n",
    "4. **Global Model Evaluation**: Evaluate the performance of the global model on a separate test set.\n",
    "\n",
    "### Implementation Details\n",
    "\n",
    "1. **Stratified Splitting**: Ensuring that each client receives a balanced distribution of fraudulent transactions.\n",
    "2. **Local Resampling**: Applying SMOTE locally on each client's data to address class imbalance.\n",
    "3. **Federated Averaging**: Implementing the FedAvg algorithm to aggregate local models into a global model.\n",
    "4. **Evaluation Metrics**: Using metrics such as accuracy, precision, recall, F1 score, ROC AUC, and AUPRC to evaluate the global model.\n",
    "\n",
    "By the end of this phase, the goal is to demonstrate that federated learning can effectively enhance the performance of the fraud detection model while maintaining data privacy and security.\n"
   ]
  },
  {
   "cell_type": "markdown",
   "id": "5e2e404b",
   "metadata": {},
   "source": [
    "#### _Glossary_\n",
    "- **Logistic Regression**: a binary classification statistical method  that models the probability of a binary outcome based on one or more predictor variables.\n",
    "- **Federated Learning**: A machine learning approach where multiple clients collaboratively train a model while keeping their data decentralized.\n",
    "- **Federated Averaging (FedAvg)**: An algorithm in federated learning that aggregates model updates from multiple clients to form a global model.\n",
    "- **SMOTE**: Synthetic Minority Over-sampling Technique, used to address class imbalance by generating synthetic samples for the minority class.\n",
    "- **AUPRC**: Area Under the Precision-Recall Curve, a metric that is particularly useful for evaluating models on imbalanced datasets."
   ]
  },
  {
   "cell_type": "markdown",
   "id": "d06be615",
   "metadata": {},
   "source": [
    "## <font color='289C4E'>Developing the Federated Logistic Regression Model:<a id='phase2_code'></a> [↑](#top)\n",
    "1. [**Import Libraries**](#import): \n",
    "Import necessary libraries for data handling, model training, and evaluation.\n",
    "\n",
    "2. [**Load and Preprocess the Dataset**](#load): \n",
    "Load the dataset and preprocess it by scaling relevant features.\n",
    "\n",
    "3. [**Split the Dataset**](#split): \n",
    "Split the dataset into training and test sets to ensure the test set remains unseen during training.\n",
    "\n",
    "4. [**Stratified Split for Clients**](#stratsplit): \n",
    "Split the training data into multiple subsets for clients, ensuring each client has a balanced distribution of fraudulent transactions.\n",
    "\n",
    "5. [**Train Local Models**](#train): \n",
    "Each client trains a logistic regression model on its local data using SMOTE to handle class imbalance.\n",
    "\n",
    "6. [**Aggregate Models**](#agg): \n",
    "Aggregate the local models' weights to create a global model.\n",
    "\n",
    "7. [**Evaluate the Global Model**](#eval): \n",
    "Evaluate the global model on the test set using various metrics, including AUPRC."
   ]
  },
  {
   "cell_type": "markdown",
   "id": "5ab5ec05",
   "metadata": {},
   "source": [
    "### 1. Import the libraries <a id='import'></a> [↑](#phase2_code)"
   ]
  },
  {
   "cell_type": "code",
   "execution_count": 1,
   "id": "44f6f60c",
   "metadata": {},
   "outputs": [],
   "source": [
    "import numpy as np\n",
    "import pandas as pd\n",
    "import matplotlib.pyplot as plt\n",
    "import seaborn as sns\n",
    "from sklearn.linear_model import LogisticRegression\n",
    "from sklearn.model_selection import StratifiedKFold, train_test_split\n",
    "from imblearn.over_sampling import SMOTE\n",
    "from sklearn.metrics import precision_score, recall_score, f1_score, roc_auc_score, accuracy_score, average_precision_score, precision_recall_curve\n",
    "import warnings\n",
    "warnings.filterwarnings(\"ignore\")\n"
   ]
  },
  {
   "cell_type": "markdown",
   "id": "a0922a06",
   "metadata": {},
   "source": [
    "### 2. Load and Preprocess the Dataset <a id='load'></a> [↑](#phase2_code)\n",
    "\n",
    "See Phase 1 for a comprehensive exploratory data analysis (EDA) of the credit card fraud dataset.The remaining phases will focus on model generation rather than EDA."
   ]
  },
  {
   "cell_type": "code",
   "execution_count": 8,
   "id": "083986f8",
   "metadata": {},
   "outputs": [
    {
     "data": {
      "text/html": [
       "<div>\n",
       "<style scoped>\n",
       "    .dataframe tbody tr th:only-of-type {\n",
       "        vertical-align: middle;\n",
       "    }\n",
       "\n",
       "    .dataframe tbody tr th {\n",
       "        vertical-align: top;\n",
       "    }\n",
       "\n",
       "    .dataframe thead th {\n",
       "        text-align: right;\n",
       "    }\n",
       "</style>\n",
       "<table border=\"1\" class=\"dataframe\">\n",
       "  <thead>\n",
       "    <tr style=\"text-align: right;\">\n",
       "      <th></th>\n",
       "      <th>scaled_amount</th>\n",
       "      <th>scaled_time</th>\n",
       "      <th>V1</th>\n",
       "      <th>V2</th>\n",
       "      <th>V3</th>\n",
       "      <th>V4</th>\n",
       "      <th>V5</th>\n",
       "      <th>V6</th>\n",
       "      <th>V7</th>\n",
       "      <th>V8</th>\n",
       "      <th>...</th>\n",
       "      <th>V20</th>\n",
       "      <th>V21</th>\n",
       "      <th>V22</th>\n",
       "      <th>V23</th>\n",
       "      <th>V24</th>\n",
       "      <th>V25</th>\n",
       "      <th>V26</th>\n",
       "      <th>V27</th>\n",
       "      <th>V28</th>\n",
       "      <th>Class</th>\n",
       "    </tr>\n",
       "  </thead>\n",
       "  <tbody>\n",
       "    <tr>\n",
       "      <th>0</th>\n",
       "      <td>0.244964</td>\n",
       "      <td>-1.996583</td>\n",
       "      <td>-1.359807</td>\n",
       "      <td>-0.072781</td>\n",
       "      <td>2.536347</td>\n",
       "      <td>1.378155</td>\n",
       "      <td>-0.338321</td>\n",
       "      <td>0.462388</td>\n",
       "      <td>0.239599</td>\n",
       "      <td>0.098698</td>\n",
       "      <td>...</td>\n",
       "      <td>0.251412</td>\n",
       "      <td>-0.018307</td>\n",
       "      <td>0.277838</td>\n",
       "      <td>-0.110474</td>\n",
       "      <td>0.066928</td>\n",
       "      <td>0.128539</td>\n",
       "      <td>-0.189115</td>\n",
       "      <td>0.133558</td>\n",
       "      <td>-0.021053</td>\n",
       "      <td>0</td>\n",
       "    </tr>\n",
       "    <tr>\n",
       "      <th>1</th>\n",
       "      <td>-0.342475</td>\n",
       "      <td>-1.996583</td>\n",
       "      <td>1.191857</td>\n",
       "      <td>0.266151</td>\n",
       "      <td>0.166480</td>\n",
       "      <td>0.448154</td>\n",
       "      <td>0.060018</td>\n",
       "      <td>-0.082361</td>\n",
       "      <td>-0.078803</td>\n",
       "      <td>0.085102</td>\n",
       "      <td>...</td>\n",
       "      <td>-0.069083</td>\n",
       "      <td>-0.225775</td>\n",
       "      <td>-0.638672</td>\n",
       "      <td>0.101288</td>\n",
       "      <td>-0.339846</td>\n",
       "      <td>0.167170</td>\n",
       "      <td>0.125895</td>\n",
       "      <td>-0.008983</td>\n",
       "      <td>0.014724</td>\n",
       "      <td>0</td>\n",
       "    </tr>\n",
       "    <tr>\n",
       "      <th>2</th>\n",
       "      <td>1.160686</td>\n",
       "      <td>-1.996562</td>\n",
       "      <td>-1.358354</td>\n",
       "      <td>-1.340163</td>\n",
       "      <td>1.773209</td>\n",
       "      <td>0.379780</td>\n",
       "      <td>-0.503198</td>\n",
       "      <td>1.800499</td>\n",
       "      <td>0.791461</td>\n",
       "      <td>0.247676</td>\n",
       "      <td>...</td>\n",
       "      <td>0.524980</td>\n",
       "      <td>0.247998</td>\n",
       "      <td>0.771679</td>\n",
       "      <td>0.909412</td>\n",
       "      <td>-0.689281</td>\n",
       "      <td>-0.327642</td>\n",
       "      <td>-0.139097</td>\n",
       "      <td>-0.055353</td>\n",
       "      <td>-0.059752</td>\n",
       "      <td>0</td>\n",
       "    </tr>\n",
       "    <tr>\n",
       "      <th>3</th>\n",
       "      <td>0.140534</td>\n",
       "      <td>-1.996562</td>\n",
       "      <td>-0.966272</td>\n",
       "      <td>-0.185226</td>\n",
       "      <td>1.792993</td>\n",
       "      <td>-0.863291</td>\n",
       "      <td>-0.010309</td>\n",
       "      <td>1.247203</td>\n",
       "      <td>0.237609</td>\n",
       "      <td>0.377436</td>\n",
       "      <td>...</td>\n",
       "      <td>-0.208038</td>\n",
       "      <td>-0.108300</td>\n",
       "      <td>0.005274</td>\n",
       "      <td>-0.190321</td>\n",
       "      <td>-1.175575</td>\n",
       "      <td>0.647376</td>\n",
       "      <td>-0.221929</td>\n",
       "      <td>0.062723</td>\n",
       "      <td>0.061458</td>\n",
       "      <td>0</td>\n",
       "    </tr>\n",
       "    <tr>\n",
       "      <th>4</th>\n",
       "      <td>-0.073403</td>\n",
       "      <td>-1.996541</td>\n",
       "      <td>-1.158233</td>\n",
       "      <td>0.877737</td>\n",
       "      <td>1.548718</td>\n",
       "      <td>0.403034</td>\n",
       "      <td>-0.407193</td>\n",
       "      <td>0.095921</td>\n",
       "      <td>0.592941</td>\n",
       "      <td>-0.270533</td>\n",
       "      <td>...</td>\n",
       "      <td>0.408542</td>\n",
       "      <td>-0.009431</td>\n",
       "      <td>0.798278</td>\n",
       "      <td>-0.137458</td>\n",
       "      <td>0.141267</td>\n",
       "      <td>-0.206010</td>\n",
       "      <td>0.502292</td>\n",
       "      <td>0.219422</td>\n",
       "      <td>0.215153</td>\n",
       "      <td>0</td>\n",
       "    </tr>\n",
       "  </tbody>\n",
       "</table>\n",
       "<p>5 rows × 31 columns</p>\n",
       "</div>"
      ],
      "text/plain": [
       "   scaled_amount  scaled_time        V1        V2        V3        V4  \\\n",
       "0       0.244964    -1.996583 -1.359807 -0.072781  2.536347  1.378155   \n",
       "1      -0.342475    -1.996583  1.191857  0.266151  0.166480  0.448154   \n",
       "2       1.160686    -1.996562 -1.358354 -1.340163  1.773209  0.379780   \n",
       "3       0.140534    -1.996562 -0.966272 -0.185226  1.792993 -0.863291   \n",
       "4      -0.073403    -1.996541 -1.158233  0.877737  1.548718  0.403034   \n",
       "\n",
       "         V5        V6        V7        V8  ...       V20       V21       V22  \\\n",
       "0 -0.338321  0.462388  0.239599  0.098698  ...  0.251412 -0.018307  0.277838   \n",
       "1  0.060018 -0.082361 -0.078803  0.085102  ... -0.069083 -0.225775 -0.638672   \n",
       "2 -0.503198  1.800499  0.791461  0.247676  ...  0.524980  0.247998  0.771679   \n",
       "3 -0.010309  1.247203  0.237609  0.377436  ... -0.208038 -0.108300  0.005274   \n",
       "4 -0.407193  0.095921  0.592941 -0.270533  ...  0.408542 -0.009431  0.798278   \n",
       "\n",
       "        V23       V24       V25       V26       V27       V28  Class  \n",
       "0 -0.110474  0.066928  0.128539 -0.189115  0.133558 -0.021053      0  \n",
       "1  0.101288 -0.339846  0.167170  0.125895 -0.008983  0.014724      0  \n",
       "2  0.909412 -0.689281 -0.327642 -0.139097 -0.055353 -0.059752      0  \n",
       "3 -0.190321 -1.175575  0.647376 -0.221929  0.062723  0.061458      0  \n",
       "4 -0.137458  0.141267 -0.206010  0.502292  0.219422  0.215153      0  \n",
       "\n",
       "[5 rows x 31 columns]"
      ]
     },
     "execution_count": 8,
     "metadata": {},
     "output_type": "execute_result"
    }
   ],
   "source": [
    "# Load dataset\n",
    "df = pd.read_csv('creditcard.csv')\n",
    "\n",
    "# Scaling 'Amount' and 'Time' features\n",
    "from sklearn.preprocessing import StandardScaler\n",
    "scaler = StandardScaler()\n",
    "df['scaled_amount'] = scaler.fit_transform(df['Amount'].values.reshape(-1, 1))\n",
    "df['scaled_time'] = scaler.fit_transform(df['Time'].values.reshape(-1, 1))\n",
    "\n",
    "# Drop original 'Amount' and 'Time' columns and replace with scaled versions\n",
    "df.drop(['Amount', 'Time'], axis=1, inplace=True)\n",
    "df.insert(0, 'scaled_amount', df.pop('scaled_amount'))\n",
    "df.insert(1, 'scaled_time', df.pop('scaled_time'))\n",
    "\n",
    "# Verify the changes\n",
    "df.head()\n"
   ]
  },
  {
   "cell_type": "markdown",
   "id": "917449fc",
   "metadata": {},
   "source": [
    "### 3. Split the Dataset into Train and Test Sets <a id='split'></a> [↑](#phase2_code)"
   ]
  },
  {
   "cell_type": "code",
   "execution_count": 9,
   "id": "a0b11cb3",
   "metadata": {},
   "outputs": [
    {
     "name": "stdout",
     "output_type": "stream",
     "text": [
      "Train set: (227845, 30), (227845,)\n",
      "Test set: (56962, 30), (56962,)\n"
     ]
    }
   ],
   "source": [
    "# Split the dataset into train and test sets (80% train, 20% test)\n",
    "X = df.drop('Class', axis=1)\n",
    "y = df['Class']\n",
    "\n",
    "X_train, X_test, y_train, y_test = train_test_split(X, y, test_size=0.2, random_state=42, stratify=y)\n",
    "\n",
    "# Print the shapes of the resulting datasets\n",
    "print(f'Train set: {X_train.shape}, {y_train.shape}')\n",
    "print(f'Test set: {X_test.shape}, {y_test.shape}')\n"
   ]
  },
  {
   "cell_type": "markdown",
   "id": "8437e548",
   "metadata": {},
   "source": [
    "### 4. Split the Training Data Across Clients with Stratification <a id='stratsplit'></a> [↑](#phase2_code)"
   ]
  },
  {
   "cell_type": "code",
   "execution_count": 10,
   "id": "cb7d31c4",
   "metadata": {},
   "outputs": [
    {
     "name": "stdout",
     "output_type": "stream",
     "text": [
      "Client 1 - Fraudulent transactions: 78, Total transactions: 45569\n",
      "Client 2 - Fraudulent transactions: 79, Total transactions: 45569\n",
      "Client 3 - Fraudulent transactions: 79, Total transactions: 45569\n",
      "Client 4 - Fraudulent transactions: 79, Total transactions: 45569\n",
      "Client 5 - Fraudulent transactions: 79, Total transactions: 45569\n"
     ]
    }
   ],
   "source": [
    "def stratified_split(data, target, num_splits):\n",
    "    skf = StratifiedKFold(n_splits=num_splits)\n",
    "    splits = []\n",
    "    for _, test_idx in skf.split(data, target):\n",
    "        splits.append(test_idx)\n",
    "    return splits\n",
    "\n",
    "num_clients = 5\n",
    "client_indices = stratified_split(X_train, y_train, num_clients)\n",
    "client_data = [(X_train.iloc[indices], y_train.iloc[indices]) for indices in client_indices]\n",
    "\n",
    "# Verify the distribution of fraudulent transactions in each client\n",
    "for i, (X_client, y_client) in enumerate(client_data):\n",
    "    print(f'Client {i+1} - Fraudulent transactions: {sum(y_client)}, Total transactions: {len(y_client)}')\n"
   ]
  },
  {
   "cell_type": "markdown",
   "id": "1900ea58",
   "metadata": {},
   "source": [
    "### 5. Train Local Models on Each Client <a id='train'></a> [↑](#phase2_code)"
   ]
  },
  {
   "cell_type": "code",
   "execution_count": null,
   "id": "0f87b95c",
   "metadata": {},
   "outputs": [],
   "source": [
    "def train_client_model(X_client, y_client):\n",
    "    sm = SMOTE(sampling_strategy='minority', random_state=42)\n",
    "    X_resampled, y_resampled = sm.fit_resample(X_client, y_client)\n",
    "    \n",
    "    model = LogisticRegression(class_weight='balanced', solver='liblinear')\n",
    "    model.fit(X_resampled, y_resampled)\n",
    "    \n",
    "    return model.coef_, model.intercept_\n",
    "\n",
    "client_weights = []\n",
    "client_intercepts = []\n",
    "\n",
    "for X_client, y_client in client_data:\n",
    "    coef, intercept = train_client_model(X_client, y_client)\n",
    "    client_weights.append(coef)\n",
    "    client_intercepts.append(intercept)"
   ]
  },
  {
   "cell_type": "markdown",
   "id": "4837f371",
   "metadata": {},
   "source": [
    "### 6. Aggregate Local Models to Form the Global Model <a id='agg'></a> [↑](#phase2_code)"
   ]
  },
  {
   "cell_type": "code",
   "execution_count": 11,
   "id": "9fd753d9",
   "metadata": {},
   "outputs": [],
   "source": [
    "def aggregate_models(client_weights, client_intercepts):\n",
    "    avg_weights = np.mean(client_weights, axis=0)\n",
    "    avg_intercept = np.mean(client_intercepts, axis=0)\n",
    "    return avg_weights, avg_intercept\n",
    "\n",
    "global_weights, global_intercept = aggregate_models(client_weights, client_intercepts)\n",
    "\n",
    "# Initialize the global model\n",
    "X_init, _, y_init, _ = train_test_split(X_train, y_train, test_size=0.99, random_state=42, stratify=y_train)\n",
    "global_model = LogisticRegression(class_weight='balanced', solver='liblinear')\n",
    "global_model.fit(X_init, y_init)\n",
    "\n",
    "# Set the coefficients and intercepts of the global model\n",
    "global_model.coef_ = global_weights\n",
    "global_model.intercept_ = global_intercept\n"
   ]
  },
  {
   "cell_type": "markdown",
   "id": "d8985dfe",
   "metadata": {},
   "source": [
    "### 7. Evaluate the Global Model on the Test Set <a id='eval'></a> [↑](#phase2_code)"
   ]
  },
  {
   "cell_type": "code",
   "execution_count": 12,
   "id": "aa44848a",
   "metadata": {},
   "outputs": [
    {
     "name": "stdout",
     "output_type": "stream",
     "text": [
      "Final Federated Model Evaluation\n",
      "---------------------------------------------\n",
      "Accuracy: 0.9885537726905657\n",
      "Precision: 0.12158469945355191\n",
      "Recall: 0.9081632653061225\n",
      "F1 Score: 0.21445783132530122\n",
      "ROC AUC Score: 0.9640642765265927\n",
      "AUPRC: 0.7198087758866923\n",
      "---------------------------------------------\n"
     ]
    }
   ],
   "source": [
    "# Predict on the test set\n",
    "y_test_pred = global_model.predict(X_test)\n",
    "y_test_prob = global_model.predict_proba(X_test)[:, 1]\n",
    "\n",
    "# Calculate evaluation metrics\n",
    "final_accuracy = accuracy_score(y_test, y_test_pred)\n",
    "final_precision = precision_score(y_test, y_test_pred)\n",
    "final_recall = recall_score(y_test, y_test_pred)\n",
    "final_f1 = f1_score(y_test, y_test_pred)\n",
    "final_auc = roc_auc_score(y_test, y_test_prob)\n",
    "final_auprc = average_precision_score(y_test, y_test_prob)\n",
    "\n",
    "print('Final Federated Model Evaluation')\n",
    "print('---' * 15)\n",
    "print(f\"Accuracy: {final_accuracy}\")\n",
    "print(f\"Precision: {final_precision}\")\n",
    "print(f\"Recall: {final_recall}\")\n",
    "print(f\"F1 Score: {final_f1}\")\n",
    "print(f\"ROC AUC Score: {final_auc}\")\n",
    "print(f\"AUPRC: {final_auprc}\")\n",
    "print('---' * 15)\n"
   ]
  },
  {
   "cell_type": "code",
   "execution_count": 13,
   "id": "a1d12686",
   "metadata": {},
   "outputs": [
    {
     "data": {
      "image/png": "[encoded data removed]",
      "text/plain": [
       "<Figure size 640x480 with 1 Axes>"
      ]
     },
     "metadata": {},
     "output_type": "display_data"
    }
   ],
   "source": [
    "# Plot Precision-Recall Curve\n",
    "precision, recall, _ = precision_recall_curve(y_test, y_test_prob)\n",
    "plt.figure()\n",
    "plt.plot(recall, precision, marker='.', label='Logistic Regression (AUPRC = %0.2f)' % final_auprc)\n",
    "plt.xlabel('Recall')\n",
    "plt.ylabel('Precision')\n",
    "plt.title('Precision-Recall Curve')\n",
    "plt.legend()\n",
    "plt.show()"
   ]
  },
  {
   "cell_type": "markdown",
   "id": "212e902c",
   "metadata": {},
   "source": [
    "### High-Level Summary of Results\n",
    "In Phase 2, the objective was to implement a federated learning approach to enhance the performance of the credit card fraud detection model while ensuring data privacy and security. By distributing the training process across multiple clients (simulating different financial institutions) and using Federated Averaging (FedAvg), the goal was to leverage the collective knowledge from multiple datasets without sharing sensitive data. The federated logistic regression model achieved the following results:\n",
    "```python \n",
    "- Accuracy: 98.86%\n",
    "- Precision: 12.16%\n",
    "- Recall: 90.82%\n",
    "- F1 Score: 21.45%\n",
    "- ROC AUC Score: 96.41%\n",
    "- AUPRC: 71.98%\n",
    "```\n",
    "### Explanation of the Scores\n",
    "- **Accuracy (98.86%)**: This indicates that 98.86% of the total transactions were correctly classified by the model. While a high accuracy is generally positive, it must be interpreted cautiously in the context of imbalanced datasets.\n",
    "- **Precision (12.16%)**: Precision measures the proportion of true positive predictions among all positive predictions. A precision of 12.16% suggests that only 12.16% of the transactions flagged as fraudulent were actually fraudulent, indicating a high number of false positives.\n",
    "- **Recall (90.82%)**: Recall, or sensitivity, measures the proportion of actual positives that were correctly identified. With a recall of 90.82%, the model successfully identifies a large majority of the fraudulent transactions, which is crucial in fraud detection to minimize missed fraudulent activities.\n",
    "- **F1 Score (21.45%)**: The F1 Score is the harmonic mean of precision and recall. A score of 21.45% indicates a balance between precision and recall but reflects the need for further improvement in precision.\n",
    "- **ROC AUC Score (96.41%)**: The ROC AUC score measures the model's ability to distinguish between classes. A score of 96.41% indicates excellent overall performance in distinguishing fraudulent from non-fraudulent transactions.\n",
    "- **AUPRC (71.98%)**: The Area Under the Precision-Recall Curve (AUPRC) is particularly useful for imbalanced datasets. A value of 71.98% demonstrates good performance in identifying the minority class (fraudulent transactions), balancing the trade-off between precision and recall."
   ]
  }
 ],
 "metadata": {
  "kernelspec": {
   "display_name": "Python (new_env)",
   "language": "python",
   "name": "new_env"
  },
  "language_info": {
   "codemirror_mode": {
    "name": "ipython",
    "version": 3
   },
   "file_extension": ".py",
   "mimetype": "text/x-python",
   "name": "python",
   "nbconvert_exporter": "python",
   "pygments_lexer": "ipython3",
   "version": "3.8.8"
  }
 },
 "nbformat": 4,
 "nbformat_minor": 5
}
